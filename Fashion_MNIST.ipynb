{
  "nbformat": 4,
  "nbformat_minor": 0,
  "metadata": {
    "colab": {
      "provenance": []
    },
    "kernelspec": {
      "name": "python3",
      "display_name": "Python 3"
    },
    "language_info": {
      "name": "python"
    }
  },
  "cells": [
    {
      "cell_type": "code",
      "execution_count": 1,
      "metadata": {
        "id": "lvffADF96fCS"
      },
      "outputs": [],
      "source": [
        "import tensorflow as tf\n",
        "import matplotlib.pyplot as plt\n",
        "# Import EarlyStopping from keras.callbacks\n",
        "from tensorflow.keras.callbacks import EarlyStopping"
      ]
    },
    {
      "cell_type": "code",
      "source": [
        "#Loading the dataset\n",
        "(x_train, y_train), (x_test, y_test) = tf.keras.datasets.fashion_mnist.load_data()"
      ],
      "metadata": {
        "colab": {
          "base_uri": "https://localhost:8080/"
        },
        "id": "ebTmHViB6uuF",
        "outputId": "02e59c11-8142-44e8-99f6-93e52badf2b7"
      },
      "execution_count": 3,
      "outputs": [
        {
          "output_type": "stream",
          "name": "stdout",
          "text": [
            "Downloading data from https://storage.googleapis.com/tensorflow/tf-keras-datasets/train-labels-idx1-ubyte.gz\n",
            "29515/29515 [==============================] - 0s 0us/step\n",
            "Downloading data from https://storage.googleapis.com/tensorflow/tf-keras-datasets/train-images-idx3-ubyte.gz\n",
            "26421880/26421880 [==============================] - 0s 0us/step\n",
            "Downloading data from https://storage.googleapis.com/tensorflow/tf-keras-datasets/t10k-labels-idx1-ubyte.gz\n",
            "5148/5148 [==============================] - 0s 0us/step\n",
            "Downloading data from https://storage.googleapis.com/tensorflow/tf-keras-datasets/t10k-images-idx3-ubyte.gz\n",
            "4422102/4422102 [==============================] - 0s 0us/step\n"
          ]
        }
      ]
    },
    {
      "cell_type": "code",
      "source": [
        "# Determine the number of classes\n",
        "num_classes = len(set(y_train))\n",
        "\n",
        "print(\"Number of classes:\", num_classes)"
      ],
      "metadata": {
        "colab": {
          "base_uri": "https://localhost:8080/"
        },
        "id": "eew2uezn7C8C",
        "outputId": "72cc1f5b-8a8e-41ce-a6f6-a965bd7ca6ce"
      },
      "execution_count": 4,
      "outputs": [
        {
          "output_type": "stream",
          "name": "stdout",
          "text": [
            "Number of classes: 10\n"
          ]
        }
      ]
    },
    {
      "cell_type": "code",
      "source": [
        "x_train.shape"
      ],
      "metadata": {
        "colab": {
          "base_uri": "https://localhost:8080/"
        },
        "id": "kUrdQ--q7F95",
        "outputId": "f847a693-56fc-43b7-e107-bc5ab427ec46"
      },
      "execution_count": 5,
      "outputs": [
        {
          "output_type": "execute_result",
          "data": {
            "text/plain": [
              "(60000, 28, 28)"
            ]
          },
          "metadata": {},
          "execution_count": 5
        }
      ]
    },
    {
      "cell_type": "code",
      "source": [
        "x_test.shape"
      ],
      "metadata": {
        "colab": {
          "base_uri": "https://localhost:8080/"
        },
        "id": "hSC2IRD47KUy",
        "outputId": "8038a4b8-e156-4165-eccf-1a6c5b43474b"
      },
      "execution_count": 6,
      "outputs": [
        {
          "output_type": "execute_result",
          "data": {
            "text/plain": [
              "(10000, 28, 28)"
            ]
          },
          "metadata": {},
          "execution_count": 6
        }
      ]
    },
    {
      "cell_type": "code",
      "source": [
        "y_train.shape"
      ],
      "metadata": {
        "colab": {
          "base_uri": "https://localhost:8080/"
        },
        "id": "RqGjWfhH7YZS",
        "outputId": "cda29c49-ad64-464f-b58f-2e3ff9097b50"
      },
      "execution_count": 7,
      "outputs": [
        {
          "output_type": "execute_result",
          "data": {
            "text/plain": [
              "(60000,)"
            ]
          },
          "metadata": {},
          "execution_count": 7
        }
      ]
    },
    {
      "cell_type": "code",
      "source": [
        "y_test.shape"
      ],
      "metadata": {
        "colab": {
          "base_uri": "https://localhost:8080/"
        },
        "id": "RxWOc8uX7Z7i",
        "outputId": "f43b554e-3f0d-46ed-ad9d-cba457cc557f"
      },
      "execution_count": 8,
      "outputs": [
        {
          "output_type": "execute_result",
          "data": {
            "text/plain": [
              "(10000,)"
            ]
          },
          "metadata": {},
          "execution_count": 8
        }
      ]
    },
    {
      "cell_type": "code",
      "source": [
        "cnn = tf.keras.models.Sequential()"
      ],
      "metadata": {
        "id": "lKcPHWhg7bTm"
      },
      "execution_count": 9,
      "outputs": []
    },
    {
      "cell_type": "code",
      "source": [
        "#Adding a convolution layer\n",
        "#Input layer is implicitly added in the first convolutional layer\n",
        "cnn.add(tf.keras.layers.Conv2D(filters=8, kernel_size=(3, 3), strides=(1, 1), activation='relu', input_shape = (28,28,1),use_bias = True))\n",
        "#Adding a Batch Normalization Layer\n",
        "cnn.add(tf.keras.layers.BatchNormalization())\n",
        "# Add MaxPool2D layer\n",
        "cnn.add(tf.keras.layers.MaxPool2D(pool_size=2, strides=2, padding='valid'))\n",
        "\n",
        "# Repeat Conv2D and MaxPool2D layers\n",
        "cnn.add(tf.keras.layers.Conv2D(filters=16, kernel_size=(3, 3), strides=(1, 1), activation='relu',  use_bias = True))\n",
        "#Adding a Batch Normalization Layer\n",
        "cnn.add(tf.keras.layers.BatchNormalization())\n",
        "\n",
        "cnn.add(tf.keras.layers.MaxPool2D(pool_size=2, strides=2, padding='valid'))\n",
        "\n",
        "cnn.add(tf.keras.layers.Conv2D(filters=32, kernel_size=(3, 3), strides=(1, 1), activation='relu', use_bias = True))\n",
        "#Adding a Batch Normalization Layer\n",
        "cnn.add(tf.keras.layers.BatchNormalization())\n",
        "\n",
        "cnn.add(tf.keras.layers.MaxPool2D(pool_size=3, strides=2, padding='valid'))\n",
        "\n",
        "# Add Flatten layer\n",
        "cnn.add(tf.keras.layers.Flatten())\n",
        "\n",
        "# Add Dense layers\n",
        "cnn.add(tf.keras.layers.Dense(units=64, activation='relu', use_bias = True))\n",
        "#Adding a drop out layer\n",
        "cnn.add(tf.keras.layers.Dropout(0.2))\n",
        "cnn.add(tf.keras.layers.Dense(units=64, activation='relu', use_bias = True))\n",
        "#Adding a drop out layer\n",
        "cnn.add(tf.keras.layers.Dropout(0.2))\n",
        "\n",
        "# Add output layer\n",
        "cnn.add(tf.keras.layers.Dense(units=10, activation='softmax', use_bias = True))"
      ],
      "metadata": {
        "id": "OrMvaH4K7ggz"
      },
      "execution_count": 10,
      "outputs": []
    },
    {
      "cell_type": "code",
      "source": [
        "# Compile the model\n",
        "cnn.compile(optimizer='adam',\n",
        "              loss=tf.keras.losses.SparseCategoricalCrossentropy(from_logits=False),\n",
        "              metrics=[tf.keras.metrics.SparseCategoricalAccuracy()])"
      ],
      "metadata": {
        "id": "E8dklJxd7i9I"
      },
      "execution_count": 11,
      "outputs": []
    },
    {
      "cell_type": "code",
      "source": [
        "# Define EarlyStopping callback\n",
        "callback = tf.keras.callbacks.EarlyStopping(monitor='loss', patience=3)\n",
        "\n",
        "# Continue with the rest of your code\n",
        "train_history = cnn.fit(x_train, y_train, epochs=16, batch_size=2048, callbacks=callback, validation_split=0.2)"
      ],
      "metadata": {
        "colab": {
          "base_uri": "https://localhost:8080/"
        },
        "id": "vMryj3Dg7l4r",
        "outputId": "200a035a-7b55-4ceb-d790-3dcadd6e1050"
      },
      "execution_count": 12,
      "outputs": [
        {
          "output_type": "stream",
          "name": "stdout",
          "text": [
            "Epoch 1/16\n",
            "24/24 [==============================] - 37s 1s/step - loss: 1.8331 - sparse_categorical_accuracy: 0.3945 - val_loss: 1.4926 - val_sparse_categorical_accuracy: 0.5128\n",
            "Epoch 2/16\n",
            "24/24 [==============================] - 22s 883ms/step - loss: 1.0684 - sparse_categorical_accuracy: 0.6367 - val_loss: 1.0135 - val_sparse_categorical_accuracy: 0.7015\n",
            "Epoch 3/16\n",
            "24/24 [==============================] - 19s 806ms/step - loss: 0.8008 - sparse_categorical_accuracy: 0.7150 - val_loss: 0.8635 - val_sparse_categorical_accuracy: 0.7463\n",
            "Epoch 4/16\n",
            "24/24 [==============================] - 20s 842ms/step - loss: 0.6998 - sparse_categorical_accuracy: 0.7492 - val_loss: 0.7705 - val_sparse_categorical_accuracy: 0.7689\n",
            "Epoch 5/16\n",
            "24/24 [==============================] - 20s 846ms/step - loss: 0.6381 - sparse_categorical_accuracy: 0.7704 - val_loss: 0.7113 - val_sparse_categorical_accuracy: 0.7769\n",
            "Epoch 6/16\n",
            "24/24 [==============================] - 22s 899ms/step - loss: 0.5863 - sparse_categorical_accuracy: 0.7880 - val_loss: 0.6429 - val_sparse_categorical_accuracy: 0.7903\n",
            "Epoch 7/16\n",
            "24/24 [==============================] - 19s 782ms/step - loss: 0.5512 - sparse_categorical_accuracy: 0.8026 - val_loss: 0.6093 - val_sparse_categorical_accuracy: 0.8062\n",
            "Epoch 8/16\n",
            "24/24 [==============================] - 21s 842ms/step - loss: 0.5203 - sparse_categorical_accuracy: 0.8152 - val_loss: 0.5398 - val_sparse_categorical_accuracy: 0.8213\n",
            "Epoch 9/16\n",
            "24/24 [==============================] - 20s 842ms/step - loss: 0.4953 - sparse_categorical_accuracy: 0.8240 - val_loss: 0.5210 - val_sparse_categorical_accuracy: 0.8241\n",
            "Epoch 10/16\n",
            "24/24 [==============================] - 21s 850ms/step - loss: 0.4692 - sparse_categorical_accuracy: 0.8345 - val_loss: 0.4794 - val_sparse_categorical_accuracy: 0.8379\n",
            "Epoch 11/16\n",
            "24/24 [==============================] - 20s 841ms/step - loss: 0.4513 - sparse_categorical_accuracy: 0.8390 - val_loss: 0.4581 - val_sparse_categorical_accuracy: 0.8372\n",
            "Epoch 12/16\n",
            "24/24 [==============================] - 19s 781ms/step - loss: 0.4376 - sparse_categorical_accuracy: 0.8463 - val_loss: 0.4324 - val_sparse_categorical_accuracy: 0.8451\n",
            "Epoch 13/16\n",
            "24/24 [==============================] - 21s 881ms/step - loss: 0.4225 - sparse_categorical_accuracy: 0.8512 - val_loss: 0.4143 - val_sparse_categorical_accuracy: 0.8515\n",
            "Epoch 14/16\n",
            "24/24 [==============================] - 20s 844ms/step - loss: 0.4095 - sparse_categorical_accuracy: 0.8558 - val_loss: 0.4097 - val_sparse_categorical_accuracy: 0.8508\n",
            "Epoch 15/16\n",
            "24/24 [==============================] - 24s 1s/step - loss: 0.3981 - sparse_categorical_accuracy: 0.8604 - val_loss: 0.4036 - val_sparse_categorical_accuracy: 0.8528\n",
            "Epoch 16/16\n",
            "24/24 [==============================] - 21s 881ms/step - loss: 0.3922 - sparse_categorical_accuracy: 0.8623 - val_loss: 0.3922 - val_sparse_categorical_accuracy: 0.8564\n"
          ]
        }
      ]
    },
    {
      "cell_type": "code",
      "source": [
        "evaluate_history = cnn.evaluate(x_test, y_test)"
      ],
      "metadata": {
        "colab": {
          "base_uri": "https://localhost:8080/"
        },
        "id": "8rxQq4Ho7oQh",
        "outputId": "1cb10494-53d6-451b-eb87-1202c079aa7f"
      },
      "execution_count": 13,
      "outputs": [
        {
          "output_type": "stream",
          "name": "stdout",
          "text": [
            "313/313 [==============================] - 2s 6ms/step - loss: 0.4065 - sparse_categorical_accuracy: 0.8576\n"
          ]
        }
      ]
    },
    {
      "cell_type": "code",
      "source": [
        "# plot accuracy\n",
        "print(train_history.history.keys())\n",
        "plt.plot(train_history.history['sparse_categorical_accuracy'])\n",
        "plt.plot(train_history.history['val_sparse_categorical_accuracy'])\n",
        "plt.title('Model accuracy')\n",
        "plt.ylabel('Accuracy')\n",
        "plt.xlabel('Epoch')\n",
        "plt.legend(['train', 'val'], loc='upper left')\n",
        "plt.show()\n",
        "\n",
        "# plot loss\n",
        "plt.plot(train_history.history['loss'])\n",
        "plt.plot(train_history.history['val_loss'])\n",
        "plt.title('Model loss')\n",
        "plt.ylabel('Loss')\n",
        "plt.xlabel('Epoch')\n",
        "plt.legend(['train', 'val'], loc='upper left')\n",
        "plt.show()\n",
        "plt.clf()\n",
        "\n",
        "print('test sparse_categorical_accuracy')\n",
        "print(evaluate_history[1])\n",
        "print('test loss')\n",
        "print(evaluate_history[0])"
      ],
      "metadata": {
        "colab": {
          "base_uri": "https://localhost:8080/",
          "height": 1000
        },
        "id": "XYgA_Z2n7qqd",
        "outputId": "2b5d096e-e5e4-4288-fac9-6e88fce1232b"
      },
      "execution_count": 14,
      "outputs": [
        {
          "output_type": "stream",
          "name": "stdout",
          "text": [
            "dict_keys(['loss', 'sparse_categorical_accuracy', 'val_loss', 'val_sparse_categorical_accuracy'])\n"
          ]
        },
        {
          "output_type": "display_data",
          "data": {
            "text/plain": [
              "<Figure size 640x480 with 1 Axes>"
            ],
            "image/png": "[encoded data removed]"
          },
          "metadata": {}
        },
        {
          "output_type": "display_data",
          "data": {
            "text/plain": [
              "<Figure size 640x480 with 1 Axes>"
            ],
            "image/png": "[encoded data removed]"
          },
          "metadata": {}
        },
        {
          "output_type": "stream",
          "name": "stdout",
          "text": [
            "test sparse_categorical_accuracy\n",
            "0.8575999736785889\n",
            "test loss\n",
            "0.4064936339855194\n"
          ]
        },
        {
          "output_type": "display_data",
          "data": {
            "text/plain": [
              "<Figure size 640x480 with 0 Axes>"
            ]
          },
          "metadata": {}
        }
      ]
    }
  ]
}