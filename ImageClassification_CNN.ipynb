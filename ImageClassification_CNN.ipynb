{
  "nbformat": 4,
  "nbformat_minor": 0,
  "metadata": {
    "colab": {
      "provenance": [],
      "gpuType": "T4"
    },
    "kernelspec": {
      "name": "python3",
      "display_name": "Python 3"
    },
    "language_info": {
      "name": "python"
    },
    "accelerator": "GPU"
  },
  "cells": [
    {
      "cell_type": "code",
      "execution_count": 34,
      "metadata": {
        "id": "Buiz-G8XDTfd"
      },
      "outputs": [],
      "source": [
        "import pandas as pd\n",
        "import numpy as np\n",
        "import os\n",
        "import matplotlib.pyplot as plt\n",
        "from os import listdir\n",
        "from sklearn import metrics\n",
        "from keras.models import Sequential\n",
        "from keras.layers import Convolution2D\n",
        "from keras.layers import MaxPooling2D\n",
        "from keras.layers import Dense\n",
        "from keras.layers import Flatten\n",
        "import tensorflow as tf"
      ]
    },
    {
      "cell_type": "code",
      "source": [
        "import zipfile\n",
        "zip_ref = zipfile.ZipFile('/content/drive/MyDrive/dataset .zip', 'r')\n",
        "zip_ref.extractall('/content/drive/MyDrive/MINE')\n",
        "zip_ref.close()"
      ],
      "metadata": {
        "id": "C95YUfXCrbiF"
      },
      "execution_count": 29,
      "outputs": []
    },
    {
      "cell_type": "code",
      "source": [
        "import os\n",
        "import zipfile\n",
        "zip_train = zipfile.ZipFile('/content/drive/MyDrive/dataset .zip')\n",
        "zip_train.extractall('content/drive/MyDrive/MINE')\n",
        "zip_train.close()"
      ],
      "metadata": {
        "id": "rrUBsWaidJXI"
      },
      "execution_count": null,
      "outputs": []
    },
    {
      "cell_type": "code",
      "source": [],
      "metadata": {
        "id": "aNWsKs6jeN-2"
      },
      "execution_count": null,
      "outputs": []
    },
    {
      "cell_type": "markdown",
      "source": [
        "# Data Preprocessing"
      ],
      "metadata": {
        "id": "1sTlW9zuOl3u"
      }
    },
    {
      "cell_type": "code",
      "source": [
        "from keras.preprocessing.image import ImageDataGenerator\n",
        "train_datagen = ImageDataGenerator(rescale = 1./255,\n",
        "                                   shear_range = 0.2,\n",
        "                                   zoom_range = 0.2,\n",
        "                                   horizontal_flip = True)\n",
        "\n",
        "# Generating images for the Test set\n",
        "test_datagen = ImageDataGenerator(rescale = 1./255)\n",
        "# Creating training set\n",
        "training_set = train_datagen.flow_from_directory('/content/drive/MyDrive/MINE/dataset /training_set',\n",
        "                                                 target_size = (64, 64),\n",
        "                                                 batch_size = 32,\n",
        "                                                 class_mode = 'binary')\n",
        "# Creating the Test set\n",
        "test_set = test_datagen.flow_from_directory('/content/drive/MyDrive/MINE/dataset /test_set',\n",
        "                                            target_size = (64, 64),\n",
        "                                            batch_size = 32,\n",
        "                                            class_mode = 'binary')"
      ],
      "metadata": {
        "colab": {
          "base_uri": "https://localhost:8080/"
        },
        "id": "ofmt4mckOoGh",
        "outputId": "1d6452c1-3b98-4ad6-fbc3-106348b07356"
      },
      "execution_count": 30,
      "outputs": [
        {
          "output_type": "stream",
          "name": "stdout",
          "text": [
            "Found 8000 images belonging to 2 classes.\n",
            "Found 2000 images belonging to 2 classes.\n"
          ]
        }
      ]
    },
    {
      "cell_type": "code",
      "source": [
        "cnn = tf.keras.models.Sequential()\n",
        "cnn.add(tf.keras.layers.Conv2D(filters = 32, kernel_size = 3, activation = 'relu', input_shape = [64,64,3]))\n",
        "cnn.add(tf.keras.layers.MaxPool2D(pool_size = 2, strides = 2))"
      ],
      "metadata": {
        "id": "swoKb7HoiTwk"
      },
      "execution_count": 39,
      "outputs": []
    },
    {
      "cell_type": "code",
      "source": [
        "cnn.add(tf.keras.layers.Conv2D(filters = 64, kernel_size = 3, activation = 'relu', input_shape = [64,64,3]))\n",
        "cnn.add(tf.keras.layers.MaxPool2D(pool_size = 2, strides = 2))"
      ],
      "metadata": {
        "id": "4nuFvcqjtvxY"
      },
      "execution_count": 40,
      "outputs": []
    },
    {
      "cell_type": "code",
      "source": [
        "# Add Flatten layer\n",
        "cnn.add(tf.keras.layers.Flatten())\n",
        "\n",
        "# Add Dense layers\n",
        "cnn.add(tf.keras.layers.Dense(units=128, activation='relu'))\n",
        "\n",
        "# Add output layer\n",
        "cnn.add(tf.keras.layers.Dense(units=1, activation='sigmoid'))"
      ],
      "metadata": {
        "id": "i4mNLzFDtrnl"
      },
      "execution_count": 41,
      "outputs": []
    },
    {
      "cell_type": "code",
      "source": [
        "cnn.compile(optimizer = 'adam', loss = 'binary_crossentropy', metrics = ['accuracy'])"
      ],
      "metadata": {
        "id": "2ryBfcdQuRHi"
      },
      "execution_count": 45,
      "outputs": []
    },
    {
      "cell_type": "code",
      "source": [
        "cnn.fit(x = training_set, validation_data = test_set, epochs = 10)"
      ],
      "metadata": {
        "id": "nTjGtT9-gxnz",
        "colab": {
          "base_uri": "https://localhost:8080/"
        },
        "outputId": "2ecc0bb1-208a-466d-bad5-5aba6ca7bf0a"
      },
      "execution_count": 46,
      "outputs": [
        {
          "output_type": "stream",
          "name": "stdout",
          "text": [
            "Epoch 1/10\n",
            "250/250 [==============================] - 59s 215ms/step - loss: 0.6660 - accuracy: 0.5789 - val_loss: 0.6125 - val_accuracy: 0.6640\n",
            "Epoch 2/10\n",
            "250/250 [==============================] - 55s 222ms/step - loss: 0.5849 - accuracy: 0.6902 - val_loss: 0.5433 - val_accuracy: 0.7290\n",
            "Epoch 3/10\n",
            "250/250 [==============================] - 63s 253ms/step - loss: 0.5529 - accuracy: 0.7160 - val_loss: 0.5096 - val_accuracy: 0.7535\n",
            "Epoch 4/10\n",
            "250/250 [==============================] - 67s 268ms/step - loss: 0.5192 - accuracy: 0.7452 - val_loss: 0.5556 - val_accuracy: 0.7360\n",
            "Epoch 5/10\n",
            "250/250 [==============================] - 67s 270ms/step - loss: 0.4886 - accuracy: 0.7595 - val_loss: 0.4984 - val_accuracy: 0.7690\n",
            "Epoch 6/10\n",
            "250/250 [==============================] - 52s 208ms/step - loss: 0.4718 - accuracy: 0.7766 - val_loss: 0.4929 - val_accuracy: 0.7680\n",
            "Epoch 7/10\n",
            "250/250 [==============================] - 59s 236ms/step - loss: 0.4570 - accuracy: 0.7837 - val_loss: 0.5005 - val_accuracy: 0.7885\n",
            "Epoch 8/10\n",
            "250/250 [==============================] - 53s 211ms/step - loss: 0.4369 - accuracy: 0.7933 - val_loss: 0.5122 - val_accuracy: 0.7770\n",
            "Epoch 9/10\n",
            "250/250 [==============================] - 58s 234ms/step - loss: 0.4279 - accuracy: 0.7984 - val_loss: 0.5025 - val_accuracy: 0.7665\n",
            "Epoch 10/10\n",
            "250/250 [==============================] - 54s 216ms/step - loss: 0.4238 - accuracy: 0.7991 - val_loss: 0.5084 - val_accuracy: 0.7820\n"
          ]
        },
        {
          "output_type": "execute_result",
          "data": {
            "text/plain": [
              "<keras.src.callbacks.History at 0x7abf74fa1f60>"
            ]
          },
          "metadata": {},
          "execution_count": 46
        }
      ]
    },
    {
      "cell_type": "code",
      "source": [
        "from keras.preprocessing import image\n",
        "import matplotlib.pyplot as plt\n",
        "\n",
        "test_image = image.load_img('/content/drive/MyDrive/MINE/dataset /test_set/cats/cat.4003.jpg', target_size=(64, 64))\n",
        "plt.imshow(test_image)\n",
        "plt.axis('off')  # Turn off axis labels\n",
        "plt.show()\n"
      ],
      "metadata": {
        "colab": {
          "base_uri": "https://localhost:8080/",
          "height": 406
        },
        "id": "4nUatsg1x38r",
        "outputId": "f3c2a936-99c4-4775-dc7f-7b5cfff20b96"
      },
      "execution_count": 51,
      "outputs": [
        {
          "output_type": "display_data",
          "data": {
            "text/plain": [
              "<Figure size 640x480 with 1 Axes>"
            ],
            "image/png": "[encoded data removed]"
          },
          "metadata": {}
        }
      ]
    },
    {
      "cell_type": "code",
      "source": [
        "#to predict new images\n",
        "from keras.preprocessing import image\n",
        "test_image = image.load_img('/content/drive/MyDrive/MINE/dataset /test_set/cats/cat.4003.jpg', target_size = (64,64))\n",
        "test_image = image.img_to_array(test_image)\n",
        "test_image = np.expand_dims(test_image, axis = 0)\n",
        "result = cnn.predict(test_image)\n",
        "training_set.class_indices\n",
        "if result[0][0] == 1:\n",
        "  prediction = 'dog'\n",
        "else:\n",
        "  prediction = 'cat'\n",
        "print(prediction)"
      ],
      "metadata": {
        "colab": {
          "base_uri": "https://localhost:8080/"
        },
        "id": "bP8egQGku1lc",
        "outputId": "1276dac4-d70a-431c-da64-8251405ba8d3"
      },
      "execution_count": 50,
      "outputs": [
        {
          "output_type": "stream",
          "name": "stdout",
          "text": [
            "1/1 [==============================] - 0s 63ms/step\n",
            "cat\n"
          ]
        }
      ]
    }
  ]
}